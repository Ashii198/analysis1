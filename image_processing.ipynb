{
 "cells": [
  {
   "cell_type": "code",
   "execution_count": 9,
   "metadata": {},
   "outputs": [],
   "source": [
    "import tensorflow as tf\n",
    "from tensorflow import keras\n",
    "from keras.models import Sequential\n",
    "from keras.layers import Dense, Flatten, Conv2D, MaxPooling2D, Dropout\n",
    "from tensorflow.keras import layers\n",
    "from tensorflow.keras.utils import to_categorical\n",
    "import numpy as np"
   ]
  },
  {
   "cell_type": "code",
   "execution_count": null,
   "metadata": {},
   "outputs": [],
   "source": []
  },
  {
   "cell_type": "code",
   "execution_count": null,
   "metadata": {},
   "outputs": [],
   "source": []
  },
  {
   "cell_type": "code",
   "execution_count": 10,
   "metadata": {},
   "outputs": [],
   "source": [
    "import matplotlib.pyplot as plt\n",
    "plt.style.use('fivethirtyeight')\n",
    "from keras.datasets import cifar10\n",
    "(x_train,y_train),(x_test,y_test)=cifar10.load_data()"
   ]
  },
  {
   "cell_type": "code",
   "execution_count": null,
   "metadata": {},
   "outputs": [],
   "source": []
  },
  {
   "cell_type": "code",
   "execution_count": 11,
   "metadata": {},
   "outputs": [
    {
     "name": "stdout",
     "output_type": "stream",
     "text": [
      "<class 'numpy.ndarray'>\n",
      "<class 'numpy.ndarray'>\n",
      "<class 'numpy.ndarray'>\n",
      "<class 'numpy.ndarray'>\n"
     ]
    }
   ],
   "source": [
    "print(type(x_train))\n",
    "print(type(y_train))\n",
    "print(type(x_test))\n",
    "print(type(y_test))"
   ]
  },
  {
   "cell_type": "code",
   "execution_count": null,
   "metadata": {},
   "outputs": [],
   "source": []
  },
  {
   "cell_type": "code",
   "execution_count": 12,
   "metadata": {},
   "outputs": [
    {
     "name": "stdout",
     "output_type": "stream",
     "text": [
      "shape of array (50000, 32, 32, 3)\n"
     ]
    }
   ],
   "source": [
    "print('shape of array',x_train.shape)"
   ]
  },
  {
   "cell_type": "code",
   "execution_count": null,
   "metadata": {},
   "outputs": [],
   "source": []
  },
  {
   "cell_type": "code",
   "execution_count": 14,
   "metadata": {},
   "outputs": [
    {
     "data": {
      "text/plain": [
       "array([[[125, 125, 116],\n",
       "        [110, 101,  91],\n",
       "        [102,  90,  83],\n",
       "        ...,\n",
       "        [202, 207, 214],\n",
       "        [200, 205, 212],\n",
       "        [202, 208, 214]],\n",
       "\n",
       "       [[142, 146, 142],\n",
       "        [146, 144, 139],\n",
       "        [176, 172, 170],\n",
       "        ...,\n",
       "        [195, 201, 205],\n",
       "        [198, 205, 209],\n",
       "        [204, 211, 215]],\n",
       "\n",
       "       [[180, 185, 183],\n",
       "        [143, 146, 146],\n",
       "        [156, 157, 157],\n",
       "        ...,\n",
       "        [122, 111, 113],\n",
       "        [139, 128, 131],\n",
       "        [158, 147, 150]],\n",
       "\n",
       "       ...,\n",
       "\n",
       "       [[104,  82,  41],\n",
       "        [101,  80,  39],\n",
       "        [101,  81,  38],\n",
       "        ...,\n",
       "        [126, 103,  67],\n",
       "        [126, 103,  69],\n",
       "        [125, 101,  68]],\n",
       "\n",
       "       [[104,  81,  40],\n",
       "        [105,  84,  41],\n",
       "        [109,  88,  43],\n",
       "        ...,\n",
       "        [138, 113,  78],\n",
       "        [137, 113,  80],\n",
       "        [137, 112,  81]],\n",
       "\n",
       "       [[105,  83,  42],\n",
       "        [108,  87,  45],\n",
       "        [115,  94,  50],\n",
       "        ...,\n",
       "        [143, 117,  82],\n",
       "        [143, 116,  84],\n",
       "        [144, 116,  86]]], dtype=uint8)"
      ]
     },
     "execution_count": 14,
     "metadata": {},
     "output_type": "execute_result"
    }
   ],
   "source": [
    "index=9\n",
    "x_train[index]"
   ]
  },
  {
   "cell_type": "code",
   "execution_count": null,
   "metadata": {},
   "outputs": [],
   "source": []
  },
  {
   "cell_type": "code",
   "execution_count": null,
   "metadata": {},
   "outputs": [],
   "source": []
  },
  {
   "cell_type": "code",
   "execution_count": 15,
   "metadata": {},
   "outputs": [
    {
     "data": {
      "image/png": "[encoded data removed]",
      "text/plain": [
       "<Figure size 432x288 with 1 Axes>"
      ]
     },
     "metadata": {},
     "output_type": "display_data"
    }
   ],
   "source": [
    "img=plt.imshow(x_train[index])"
   ]
  },
  {
   "cell_type": "code",
   "execution_count": null,
   "metadata": {},
   "outputs": [],
   "source": []
  },
  {
   "cell_type": "code",
   "execution_count": 16,
   "metadata": {},
   "outputs": [
    {
     "name": "stdout",
     "output_type": "stream",
     "text": [
      "The image label is:  [3]\n"
     ]
    }
   ],
   "source": [
    "print('The image label is: ',y_train[index])"
   ]
  },
  {
   "cell_type": "code",
   "execution_count": null,
   "metadata": {},
   "outputs": [],
   "source": []
  },
  {
   "cell_type": "code",
   "execution_count": 17,
   "metadata": {},
   "outputs": [
    {
     "name": "stdout",
     "output_type": "stream",
     "text": [
      "The image classification is:  cat\n"
     ]
    }
   ],
   "source": [
    "classification=['airplane','automobile','bird','cat','deer','dog','frog','horse','ship','truck']\n",
    "print('The image classification is: ', classification[y_train[index][0]])"
   ]
  },
  {
   "cell_type": "code",
   "execution_count": null,
   "metadata": {},
   "outputs": [],
   "source": []
  },
  {
   "cell_type": "code",
   "execution_count": 18,
   "metadata": {},
   "outputs": [
    {
     "data": {
      "text/plain": [
       "array([[[203, 220, 236],\n",
       "        [203, 219, 235],\n",
       "        [206, 221, 237],\n",
       "        ...,\n",
       "        [219, 236, 251],\n",
       "        [219, 236, 251],\n",
       "        [218, 235, 250]],\n",
       "\n",
       "       [[203, 221, 237],\n",
       "        [203, 219, 235],\n",
       "        [206, 222, 238],\n",
       "        ...,\n",
       "        [220, 238, 253],\n",
       "        [220, 237, 253],\n",
       "        [219, 236, 252]],\n",
       "\n",
       "       [[202, 216, 232],\n",
       "        [202, 216, 231],\n",
       "        [205, 219, 234],\n",
       "        ...,\n",
       "        [219, 235, 252],\n",
       "        [218, 236, 252],\n",
       "        [218, 234, 250]],\n",
       "\n",
       "       ...,\n",
       "\n",
       "       [[ 87, 109, 114],\n",
       "        [ 74,  92,  92],\n",
       "        [ 52,  68,  66],\n",
       "        ...,\n",
       "        [ 93, 117, 117],\n",
       "        [ 98, 123, 123],\n",
       "        [ 93, 121, 122]],\n",
       "\n",
       "       [[ 81, 108, 113],\n",
       "        [ 62,  86,  87],\n",
       "        [ 42,  64,  65],\n",
       "        ...,\n",
       "        [ 90, 116, 116],\n",
       "        [ 90, 115, 116],\n",
       "        [ 88, 118, 118]],\n",
       "\n",
       "       [[ 72, 100, 106],\n",
       "        [ 59,  87,  88],\n",
       "        [ 45,  72,  73],\n",
       "        ...,\n",
       "        [ 80, 108, 108],\n",
       "        [ 80, 109, 110],\n",
       "        [ 75, 107, 106]]], dtype=uint8)"
      ]
     },
     "execution_count": 18,
     "metadata": {},
     "output_type": "execute_result"
    }
   ],
   "source": [
    "index=190\n",
    "x_train[index]"
   ]
  },
  {
   "cell_type": "code",
   "execution_count": null,
   "metadata": {},
   "outputs": [],
   "source": []
  },
  {
   "cell_type": "code",
   "execution_count": null,
   "metadata": {},
   "outputs": [],
   "source": []
  },
  {
   "cell_type": "code",
   "execution_count": 19,
   "metadata": {},
   "outputs": [
    {
     "data": {
      "image/png": "[encoded data removed]",
      "text/plain": [
       "<Figure size 432x288 with 1 Axes>"
      ]
     },
     "metadata": {},
     "output_type": "display_data"
    }
   ],
   "source": [
    "image=plt.imshow(x_train[index])"
   ]
  },
  {
   "cell_type": "code",
   "execution_count": null,
   "metadata": {},
   "outputs": [],
   "source": []
  },
  {
   "cell_type": "code",
   "execution_count": 20,
   "metadata": {},
   "outputs": [
    {
     "name": "stdout",
     "output_type": "stream",
     "text": [
      "The image classification is:  ship\n"
     ]
    }
   ],
   "source": [
    "print('The image classification is: ', classification[y_train[index][0]])"
   ]
  },
  {
   "cell_type": "code",
   "execution_count": null,
   "metadata": {},
   "outputs": [],
   "source": []
  },
  {
   "cell_type": "code",
   "execution_count": 21,
   "metadata": {},
   "outputs": [],
   "source": [
    "y_train_one_hot=to_categorical(y_train)\n",
    "y_test_one_hot=to_categorical(y_test)"
   ]
  },
  {
   "cell_type": "code",
   "execution_count": null,
   "metadata": {},
   "outputs": [],
   "source": []
  },
  {
   "cell_type": "code",
   "execution_count": 22,
   "metadata": {},
   "outputs": [
    {
     "name": "stdout",
     "output_type": "stream",
     "text": [
      "[[0. 0. 0. ... 0. 0. 0.]\n",
      " [0. 0. 0. ... 0. 0. 1.]\n",
      " [0. 0. 0. ... 0. 0. 1.]\n",
      " ...\n",
      " [0. 0. 0. ... 0. 0. 1.]\n",
      " [0. 1. 0. ... 0. 0. 0.]\n",
      " [0. 1. 0. ... 0. 0. 0.]]\n",
      "[[0. 0. 0. ... 0. 0. 0.]\n",
      " [0. 0. 0. ... 0. 1. 0.]\n",
      " [0. 0. 0. ... 0. 1. 0.]\n",
      " ...\n",
      " [0. 0. 0. ... 0. 0. 0.]\n",
      " [0. 1. 0. ... 0. 0. 0.]\n",
      " [0. 0. 0. ... 1. 0. 0.]]\n"
     ]
    }
   ],
   "source": [
    "print(y_train_one_hot)\n",
    "print(y_test_one_hot)"
   ]
  },
  {
   "cell_type": "code",
   "execution_count": null,
   "metadata": {},
   "outputs": [],
   "source": []
  },
  {
   "cell_type": "code",
   "execution_count": 23,
   "metadata": {},
   "outputs": [
    {
     "name": "stdout",
     "output_type": "stream",
     "text": [
      "The one hot value is: [0. 0. 0. 0. 0. 0. 0. 0. 1. 0.]\n"
     ]
    }
   ],
   "source": [
    "print('The one hot value is:', y_train_one_hot[index])"
   ]
  },
  {
   "cell_type": "code",
   "execution_count": null,
   "metadata": {},
   "outputs": [],
   "source": []
  },
  {
   "cell_type": "code",
   "execution_count": 24,
   "metadata": {},
   "outputs": [],
   "source": [
    "x_train=x_train/255\n",
    "x_test=x_test/255\n"
   ]
  },
  {
   "cell_type": "code",
   "execution_count": null,
   "metadata": {},
   "outputs": [],
   "source": []
  },
  {
   "cell_type": "code",
   "execution_count": 25,
   "metadata": {},
   "outputs": [
    {
     "name": "stdout",
     "output_type": "stream",
     "text": [
      "[[[0.79607843 0.8627451  0.9254902 ]\n",
      "  [0.79607843 0.85882353 0.92156863]\n",
      "  [0.80784314 0.86666667 0.92941176]\n",
      "  ...\n",
      "  [0.85882353 0.9254902  0.98431373]\n",
      "  [0.85882353 0.9254902  0.98431373]\n",
      "  [0.85490196 0.92156863 0.98039216]]\n",
      "\n",
      " [[0.79607843 0.86666667 0.92941176]\n",
      "  [0.79607843 0.85882353 0.92156863]\n",
      "  [0.80784314 0.87058824 0.93333333]\n",
      "  ...\n",
      "  [0.8627451  0.93333333 0.99215686]\n",
      "  [0.8627451  0.92941176 0.99215686]\n",
      "  [0.85882353 0.9254902  0.98823529]]\n",
      "\n",
      " [[0.79215686 0.84705882 0.90980392]\n",
      "  [0.79215686 0.84705882 0.90588235]\n",
      "  [0.80392157 0.85882353 0.91764706]\n",
      "  ...\n",
      "  [0.85882353 0.92156863 0.98823529]\n",
      "  [0.85490196 0.9254902  0.98823529]\n",
      "  [0.85490196 0.91764706 0.98039216]]\n",
      "\n",
      " ...\n",
      "\n",
      " [[0.34117647 0.42745098 0.44705882]\n",
      "  [0.29019608 0.36078431 0.36078431]\n",
      "  [0.20392157 0.26666667 0.25882353]\n",
      "  ...\n",
      "  [0.36470588 0.45882353 0.45882353]\n",
      "  [0.38431373 0.48235294 0.48235294]\n",
      "  [0.36470588 0.4745098  0.47843137]]\n",
      "\n",
      " [[0.31764706 0.42352941 0.44313725]\n",
      "  [0.24313725 0.3372549  0.34117647]\n",
      "  [0.16470588 0.25098039 0.25490196]\n",
      "  ...\n",
      "  [0.35294118 0.45490196 0.45490196]\n",
      "  [0.35294118 0.45098039 0.45490196]\n",
      "  [0.34509804 0.4627451  0.4627451 ]]\n",
      "\n",
      " [[0.28235294 0.39215686 0.41568627]\n",
      "  [0.23137255 0.34117647 0.34509804]\n",
      "  [0.17647059 0.28235294 0.28627451]\n",
      "  ...\n",
      "  [0.31372549 0.42352941 0.42352941]\n",
      "  [0.31372549 0.42745098 0.43137255]\n",
      "  [0.29411765 0.41960784 0.41568627]]]\n"
     ]
    }
   ],
   "source": [
    "print(x_train[index])"
   ]
  },
  {
   "cell_type": "code",
   "execution_count": null,
   "metadata": {},
   "outputs": [],
   "source": []
  },
  {
   "cell_type": "code",
   "execution_count": 26,
   "metadata": {},
   "outputs": [],
   "source": [
    "#create the model architecture\n",
    "model=Sequential()"
   ]
  },
  {
   "cell_type": "code",
   "execution_count": null,
   "metadata": {},
   "outputs": [],
   "source": []
  },
  {
   "cell_type": "code",
   "execution_count": 27,
   "metadata": {},
   "outputs": [],
   "source": [
    "#Add the first layer\n",
    "model.add(Conv2D(32,(5,5),activation='relu',input_shape=(32,32,3)))\n",
    "\n",
    "#Add a pooling layer\n",
    "model.add(MaxPooling2D(pool_size=(2,2)))\n",
    "\n",
    "#Add another convolution layer\n",
    "model.add(Conv2D(32,(5,5),activation='relu'))\n",
    "\n",
    "#Add a pooling layer\n",
    "model.add(MaxPooling2D(pool_size=(2,2)))\n",
    "\n",
    "#Add flattening layer\n",
    "model.add(Flatten())\n",
    "\n",
    "#Add a layer with 1000 neurons\n",
    "model.add(Dense(1000, activation='relu'))\n",
    "\n",
    "#Add a drop out layer\n",
    "model.add(Dropout(0.5))\n",
    "\n",
    "\n",
    "#Add a layer with 500 neurons\n",
    "model.add(Dense(500, activation='relu'))\n",
    "\n",
    "#Add a drop out layer\n",
    "model.add(Dropout(0.5))\n",
    "\n",
    "\n",
    "\n",
    "#Add a layer with 250 neurons\n",
    "model.add(Dense(250, activation='relu'))\n",
    "\n",
    "\n",
    "#Add a layer with 10 neurons\n",
    "model.add(Dense(10, activation='softmax'))"
   ]
  },
  {
   "cell_type": "code",
   "execution_count": null,
   "metadata": {},
   "outputs": [],
   "source": []
  },
  {
   "cell_type": "code",
   "execution_count": 28,
   "metadata": {},
   "outputs": [],
   "source": [
    "#compile the model\n",
    "model.compile(loss='categorical_crossentropy',\n",
    "             optimizer='adam',\n",
    "             metrics=['accuracy'])"
   ]
  },
  {
   "cell_type": "code",
   "execution_count": null,
   "metadata": {},
   "outputs": [],
   "source": []
  },
  {
   "cell_type": "code",
   "execution_count": 29,
   "metadata": {},
   "outputs": [
    {
     "name": "stdout",
     "output_type": "stream",
     "text": [
      "Epoch 1/10\n",
      "157/157 [==============================] - 53s 198ms/step - loss: 1.9967 - accuracy: 0.2393 - val_loss: 1.4433 - val_accuracy: 0.4743\n",
      "Epoch 2/10\n",
      "157/157 [==============================] - 31s 194ms/step - loss: 1.4521 - accuracy: 0.4687 - val_loss: 1.2564 - val_accuracy: 0.5511\n",
      "Epoch 3/10\n",
      "157/157 [==============================] - 30s 189ms/step - loss: 1.2525 - accuracy: 0.5441 - val_loss: 1.1640 - val_accuracy: 0.5874\n",
      "Epoch 4/10\n",
      "157/157 [==============================] - 30s 191ms/step - loss: 1.1379 - accuracy: 0.5926 - val_loss: 1.1698 - val_accuracy: 0.5920\n",
      "Epoch 5/10\n",
      "157/157 [==============================] - 33s 210ms/step - loss: 1.0484 - accuracy: 0.6275 - val_loss: 1.0020 - val_accuracy: 0.6428\n",
      "Epoch 6/10\n",
      "157/157 [==============================] - 31s 195ms/step - loss: 0.9610 - accuracy: 0.6587 - val_loss: 1.0508 - val_accuracy: 0.6268\n",
      "Epoch 7/10\n",
      "157/157 [==============================] - 32s 207ms/step - loss: 0.9208 - accuracy: 0.6723 - val_loss: 0.9694 - val_accuracy: 0.6606\n",
      "Epoch 8/10\n",
      "157/157 [==============================] - 30s 193ms/step - loss: 0.8653 - accuracy: 0.6915 - val_loss: 0.9923 - val_accuracy: 0.6529\n",
      "Epoch 9/10\n",
      "157/157 [==============================] - 30s 192ms/step - loss: 0.7903 - accuracy: 0.7178 - val_loss: 0.9166 - val_accuracy: 0.6821\n",
      "Epoch 10/10\n",
      "157/157 [==============================] - 31s 194ms/step - loss: 0.7430 - accuracy: 0.7371 - val_loss: 0.9429 - val_accuracy: 0.6817\n"
     ]
    }
   ],
   "source": [
    "#Train the model\n",
    "hist=model.fit(x_train,y_train_one_hot,\n",
    "              batch_size=256,\n",
    "              epochs=10,\n",
    "              validation_split=0.2)"
   ]
  },
  {
   "cell_type": "code",
   "execution_count": null,
   "metadata": {},
   "outputs": [],
   "source": []
  },
  {
   "cell_type": "code",
   "execution_count": 30,
   "metadata": {},
   "outputs": [
    {
     "name": "stdout",
     "output_type": "stream",
     "text": [
      "313/313 [==============================] - 2s 6ms/step - loss: 0.9589 - accuracy: 0.6708\n"
     ]
    },
    {
     "data": {
      "text/plain": [
       "0.670799970626831"
      ]
     },
     "execution_count": 30,
     "metadata": {},
     "output_type": "execute_result"
    }
   ],
   "source": [
    "model.evaluate(x_test,y_test_one_hot)[1]"
   ]
  },
  {
   "cell_type": "code",
   "execution_count": null,
   "metadata": {},
   "outputs": [],
   "source": []
  },
  {
   "cell_type": "code",
   "execution_count": null,
   "metadata": {},
   "outputs": [],
   "source": []
  },
  {
   "cell_type": "code",
   "execution_count": 66,
   "metadata": {},
   "outputs": [
    {
     "data": {
      "image/png": "[encoded data removed]",
      "text/plain": [
       "<Figure size 432x288 with 1 Axes>"
      ]
     },
     "metadata": {},
     "output_type": "display_data"
    }
   ],
   "source": [
    "#visualize the model accuracy\n",
    "#####################here\n",
    "\n",
    "####Test model on images\n",
    "new_image=plt.imread('D:\\Python2\\EAST-Detector-for-text-detection-using-OpenCV\\dodo.jpg')\n",
    "img=plt.imshow(new_image)"
   ]
  },
  {
   "cell_type": "code",
   "execution_count": null,
   "metadata": {},
   "outputs": [],
   "source": []
  },
  {
   "cell_type": "code",
   "execution_count": null,
   "metadata": {},
   "outputs": [],
   "source": []
  },
  {
   "cell_type": "code",
   "execution_count": null,
   "metadata": {},
   "outputs": [],
   "source": []
  },
  {
   "cell_type": "code",
   "execution_count": null,
   "metadata": {},
   "outputs": [],
   "source": []
  },
  {
   "cell_type": "code",
   "execution_count": 67,
   "metadata": {},
   "outputs": [],
   "source": [
    "#resize the image in 32 by 32 format\n",
    "from skimage.transform import resize"
   ]
  },
  {
   "cell_type": "code",
   "execution_count": null,
   "metadata": {},
   "outputs": [],
   "source": []
  },
  {
   "cell_type": "code",
   "execution_count": null,
   "metadata": {},
   "outputs": [],
   "source": []
  },
  {
   "cell_type": "code",
   "execution_count": 68,
   "metadata": {},
   "outputs": [
    {
     "data": {
      "image/png": "[encoded data removed]",
      "text/plain": [
       "<Figure size 432x288 with 1 Axes>"
      ]
     },
     "metadata": {},
     "output_type": "display_data"
    }
   ],
   "source": [
    "resized_image=resize(new_image,(32,32,3))\n",
    "img=plt.imshow(resized_image)"
   ]
  },
  {
   "cell_type": "code",
   "execution_count": null,
   "metadata": {},
   "outputs": [],
   "source": []
  },
  {
   "cell_type": "code",
   "execution_count": null,
   "metadata": {},
   "outputs": [],
   "source": []
  },
  {
   "cell_type": "code",
   "execution_count": 69,
   "metadata": {},
   "outputs": [
    {
     "data": {
      "text/plain": [
       "array([[1.52742711e-03, 1.09103625e-04, 1.62599787e-01, 2.23548174e-01,\n",
       "        1.09183542e-01, 4.73979473e-01, 1.48673709e-02, 1.37711912e-02,\n",
       "        2.12036452e-04, 2.01892908e-04]], dtype=float32)"
      ]
     },
     "execution_count": 69,
     "metadata": {},
     "output_type": "execute_result"
    }
   ],
   "source": [
    "#Get the models pridictions\n",
    "prediction=model.predict(np.array([resized_image]))\n",
    "prediction"
   ]
  },
  {
   "cell_type": "code",
   "execution_count": null,
   "metadata": {},
   "outputs": [],
   "source": []
  },
  {
   "cell_type": "code",
   "execution_count": null,
   "metadata": {},
   "outputs": [],
   "source": []
  },
  {
   "cell_type": "code",
   "execution_count": 70,
   "metadata": {},
   "outputs": [
    {
     "name": "stdout",
     "output_type": "stream",
     "text": [
      "[5, 3, 2, 4, 6, 7, 0, 8, 9, 1]\n"
     ]
    }
   ],
   "source": [
    "list_index=[0,1,2,3,4,5,6,7,8,9]\n",
    "x=prediction\n",
    "for i in range(10):\n",
    "    for j in range(10):\n",
    "        if x[0][list_index[i]]>x[0][list_index[j]]:\n",
    "            temp=list_index[i]\n",
    "            list_index[i]=list_index[j]\n",
    "            list_index[j]=temp\n",
    "\n",
    "print(list_index)"
   ]
  },
  {
   "cell_type": "code",
   "execution_count": null,
   "metadata": {},
   "outputs": [],
   "source": []
  },
  {
   "cell_type": "code",
   "execution_count": null,
   "metadata": {},
   "outputs": [],
   "source": []
  },
  {
   "cell_type": "code",
   "execution_count": null,
   "metadata": {},
   "outputs": [],
   "source": []
  },
  {
   "cell_type": "code",
   "execution_count": 71,
   "metadata": {},
   "outputs": [
    {
     "name": "stdout",
     "output_type": "stream",
     "text": [
      "dog : 47.4 %\n",
      "cat : 22.35 %\n",
      "bird : 16.26 %\n",
      "deer : 10.92 %\n",
      "frog : 1.49 %\n"
     ]
    }
   ],
   "source": [
    "#print the first five predictions\n",
    "for i in range(5):\n",
    "    print(classification[list_index[i]], ':',round(prediction[0][list_index[i]]*100,2),'%')"
   ]
  },
  {
   "cell_type": "code",
   "execution_count": null,
   "metadata": {},
   "outputs": [],
   "source": []
  },
  {
   "cell_type": "code",
   "execution_count": null,
   "metadata": {},
   "outputs": [],
   "source": []
  },
  {
   "cell_type": "code",
   "execution_count": null,
   "metadata": {},
   "outputs": [],
   "source": []
  },
  {
   "cell_type": "code",
   "execution_count": null,
   "metadata": {},
   "outputs": [],
   "source": []
  },
  {
   "cell_type": "code",
   "execution_count": null,
   "metadata": {},
   "outputs": [],
   "source": []
  },
  {
   "cell_type": "code",
   "execution_count": null,
   "metadata": {},
   "outputs": [],
   "source": []
  },
  {
   "cell_type": "code",
   "execution_count": null,
   "metadata": {},
   "outputs": [],
   "source": []
  },
  {
   "cell_type": "code",
   "execution_count": 72,
   "metadata": {},
   "outputs": [
    {
     "ename": "SyntaxError",
     "evalue": "invalid syntax (<ipython-input-72-5230c46ffcea>, line 1)",
     "output_type": "error",
     "traceback": [
      "\u001b[1;36m  File \u001b[1;32m\"<ipython-input-72-5230c46ffcea>\"\u001b[1;36m, line \u001b[1;32m1\u001b[0m\n\u001b[1;33m    from scikit-image.transform import resize\u001b[0m\n\u001b[1;37m               ^\u001b[0m\n\u001b[1;31mSyntaxError\u001b[0m\u001b[1;31m:\u001b[0m invalid syntax\n"
     ]
    }
   ],
   "source": []
  },
  {
   "cell_type": "code",
   "execution_count": null,
   "metadata": {},
   "outputs": [],
   "source": []
  },
  {
   "cell_type": "code",
   "execution_count": 74,
   "metadata": {},
   "outputs": [
    {
     "name": "stdout",
     "output_type": "stream",
     "text": [
      "bird : 70.75 %\n",
      "deer : 13.73 %\n",
      "airplane : 5.36 %\n",
      "ship : 3.6 %\n",
      "cat : 3.52 %\n"
     ]
    },
    {
     "data": {
      "image/png": "[encoded data removed]",
      "text/plain": [
       "<Figure size 432x288 with 1 Axes>"
      ]
     },
     "metadata": {},
     "output_type": "display_data"
    }
   ],
   "source": [
    "new_image=plt.imread('D:\\Python2\\jupyter\\images\\deer2.jpg')\n",
    "img=plt.imshow(new_image)\n",
    "resized_image=resize(new_image,(32,32,3))\n",
    "img=plt.imshow(resized_image)\n",
    "prediction=model.predict(np.array([resized_image]))\n",
    "list_index=[0,1,2,3,4,5,6,7,8,9]\n",
    "x=prediction\n",
    "for i in range(10):\n",
    "    for j in range(10):\n",
    "        if x[0][list_index[i]]>x[0][list_index[j]]:\n",
    "            temp=list_index[i]\n",
    "            list_index[i]=list_index[j]\n",
    "            list_index[j]=temp\n",
    "\n",
    "for i in range(5):\n",
    "    print(classification[list_index[i]], ':',round(prediction[0][list_index[i]]*100,2),'%')"
   ]
  },
  {
   "cell_type": "code",
   "execution_count": null,
   "metadata": {},
   "outputs": [],
   "source": []
  },
  {
   "cell_type": "code",
   "execution_count": null,
   "metadata": {},
   "outputs": [],
   "source": []
  },
  {
   "cell_type": "code",
   "execution_count": null,
   "metadata": {},
   "outputs": [],
   "source": []
  },
  {
   "cell_type": "code",
   "execution_count": null,
   "metadata": {},
   "outputs": [],
   "source": []
  },
  {
   "cell_type": "code",
   "execution_count": null,
   "metadata": {},
   "outputs": [],
   "source": []
  },
  {
   "cell_type": "code",
   "execution_count": null,
   "metadata": {},
   "outputs": [],
   "source": []
  },
  {
   "cell_type": "code",
   "execution_count": null,
   "metadata": {},
   "outputs": [],
   "source": []
  },
  {
   "cell_type": "code",
   "execution_count": null,
   "metadata": {},
   "outputs": [],
   "source": []
  },
  {
   "cell_type": "code",
   "execution_count": null,
   "metadata": {},
   "outputs": [],
   "source": []
  },
  {
   "cell_type": "code",
   "execution_count": null,
   "metadata": {},
   "outputs": [],
   "source": []
  },
  {
   "cell_type": "code",
   "execution_count": null,
   "metadata": {},
   "outputs": [],
   "source": []
  },
  {
   "cell_type": "code",
   "execution_count": null,
   "metadata": {},
   "outputs": [],
   "source": []
  },
  {
   "cell_type": "code",
   "execution_count": null,
   "metadata": {},
   "outputs": [],
   "source": []
  },
  {
   "cell_type": "code",
   "execution_count": null,
   "metadata": {},
   "outputs": [],
   "source": []
  },
  {
   "cell_type": "code",
   "execution_count": null,
   "metadata": {},
   "outputs": [],
   "source": []
  },
  {
   "cell_type": "code",
   "execution_count": null,
   "metadata": {},
   "outputs": [],
   "source": []
  },
  {
   "cell_type": "code",
   "execution_count": null,
   "metadata": {},
   "outputs": [],
   "source": []
  },
  {
   "cell_type": "code",
   "execution_count": null,
   "metadata": {},
   "outputs": [],
   "source": []
  },
  {
   "cell_type": "code",
   "execution_count": null,
   "metadata": {},
   "outputs": [],
   "source": []
  },
  {
   "cell_type": "code",
   "execution_count": null,
   "metadata": {},
   "outputs": [],
   "source": []
  },
  {
   "cell_type": "code",
   "execution_count": null,
   "metadata": {},
   "outputs": [],
   "source": []
  },
  {
   "cell_type": "code",
   "execution_count": null,
   "metadata": {},
   "outputs": [],
   "source": []
  },
  {
   "cell_type": "code",
   "execution_count": null,
   "metadata": {},
   "outputs": [],
   "source": []
  },
  {
   "cell_type": "code",
   "execution_count": null,
   "metadata": {},
   "outputs": [],
   "source": []
  }
 ],
 "metadata": {
  "kernelspec": {
   "display_name": "Python 3",
   "language": "python",
   "name": "python3"
  },
  "language_info": {
   "codemirror_mode": {
    "name": "ipython",
    "version": 3
   },
   "file_extension": ".py",
   "mimetype": "text/x-python",
   "name": "python",
   "nbconvert_exporter": "python",
   "pygments_lexer": "ipython3",
   "version": "3.7.6"
  }
 },
 "nbformat": 4,
 "nbformat_minor": 4
}
